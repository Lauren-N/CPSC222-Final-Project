{
 "cells": [
  {
   "cell_type": "code",
   "execution_count": 571,
   "metadata": {},
   "outputs": [],
   "source": [
    "\"\"\"\n",
    "Name: Lauren Nguyen\n",
    "Course: CPSC 222\n",
    "Assignment: Final Project\n",
    "Date: 12/3/2022\n",
    "Description: Final Data Science project using wordle data to compute EDA, \n",
    "            statistics testing, and machine learning\n",
    "\"\"\"\n",
    "import utils\n",
    "import pandas as pd\n",
    "import numpy as np\n",
    "import matplotlib.pyplot as plt\n",
    "from scipy import stats\n",
    "import importlib\n",
    "importlib.reload(utils)\n",
    "import math\n",
    "from sklearn.preprocessing import MinMaxScaler\n",
    "from sklearn.neighbors import KNeighborsClassifier\n",
    "from sklearn.model_selection import train_test_split\n",
    "from sklearn.tree import DecisionTreeClassifier"
   ]
  },
  {
   "attachments": {},
   "cell_type": "markdown",
   "metadata": {},
   "source": [
    "# **Data Description**\n",
    "My data that I will be using in this project comes from the internet game wordle. I have been tracking my daily attempts along with these attributes manually in an excel sheet from 9/14/22-13/3/22.\n",
    "* Amount of tries(Tries)\n",
    "* Date(Date)\n",
    "* The word(Word)\n",
    "* The time completed(Time)\n",
    "* If I got the word(Got it)\n",
    "\n",
    "**Why Wordle?**\n",
    "I am interested in this data because it's a cognitive and brain activity. You are actively trying to think of words to fit the puzzle under the constraint of limited tries. It would be really interesting seeing different users doing the wordle at different times of the day as well and see how they perform.\n",
    "\n",
    "**What are the potential impacts of my results?**\n",
    "From analysis of wordle data, I would love to learn more about the brain's cognitive ability in relation to the time of day and obscurity of the word. Some impacts with such results could tell more about the human brain at different times of the day and other factors like if its the weekend or week or the weather.\n",
    "\n",
    "**Who are the stakeholders interested in these results?**\n",
    "I think some stakeholders interested in these results would be scientists or psychologists studying cognition or comprehension of the brain.\n",
    "\n",
    "# **Loading the Data**\n",
    "First we are going to load our data from a CSV file into a Pandas Dataframe."
   ]
  },
  {
   "cell_type": "code",
   "execution_count": 572,
   "metadata": {},
   "outputs": [
    {
     "name": "stdout",
     "output_type": "stream",
     "text": [
      "      Date  Tries   Word      Time Got it\n",
      "0  9/14/22    5.0  Thyme   8:58 AM    Yes\n",
      "1  9/15/22    4.0  Doubt   9:09 AM    Yes\n",
      "2  9/16/22    6.0  Parer   1:11 PM    Yes\n",
      "3  9/17/22    NaN    NaN       NaN    NaN\n",
      "4  9/18/22    5.0  Stick  11:33 AM    Yes\n"
     ]
    }
   ],
   "source": [
    "uncleaned_df = utils.read_file(\"wordle_uncleaned.csv\")\n",
    "print(uncleaned_df.head())"
   ]
  },
  {
   "attachments": {},
   "cell_type": "markdown",
   "metadata": {},
   "source": [
    "# **Cleaning the data**\n",
    "Next, we need to clean the data up a little. There are some days of wordle that I had missed so I need to delete the rows where there is no data present. Then write to a new csv file called **\"cleaned_wordle.csv\"**"
   ]
  },
  {
   "cell_type": "code",
   "execution_count": 573,
   "metadata": {},
   "outputs": [],
   "source": [
    "cleaned_df = utils.delete_missing_data(uncleaned_df)\n",
    "cleaned_df.to_csv(\"cleaned_wordle.csv\")"
   ]
  },
  {
   "attachments": {},
   "cell_type": "markdown",
   "metadata": {},
   "source": [
    "# **Agreggating Data**\n",
    "For this, we will be computing statistics on our dataset, These calculations will include:\n",
    "* Total days of Wordle completed\n",
    "* Total Wordles completed in the morning\n",
    "* Total Wordles completed in the night\n",
    "* Most common amount of tries\n",
    "* Average amount of tries\n",
    "* Standard deviation of tries\n",
    "* Average tries in the morning\n",
    "* Standard deviation of tries in the morning\n",
    "* Average tries in the night\n",
    "* Standard deviation of tries in the night\n",
    "\n",
    "Formulas to be used:  \n",
    "Average: $\\frac{1}{n} \\sum_{i=i}^{n} x_{i}$  \n",
    "Standard Deviation: $\\sqrt{\\frac{1}{N-1} \\sum_{i=1}^N (x_i - \\overline{x})^2}$  \n",
    "Mode: l + h($\\frac{f_{m}-f_{l}}{2f_{m}-f_{l}-f_{2}}$)\n"
   ]
  },
  {
   "cell_type": "code",
   "execution_count": 574,
   "metadata": {},
   "outputs": [
    {
     "name": "stdout",
     "output_type": "stream",
     "text": [
      "Total days of Wordle completed                70.000000\n",
      "Total Wordles completed in the morning        50.000000\n",
      "Total Wordles completed in the night          21.000000\n",
      "Most common amount of tries                    5.000000\n",
      "Average amount of tries                        4.800000\n",
      "Standard deviation of tries                    1.077033\n",
      "Average tries in the morning                   4.720000\n",
      "Standard deviation of tries in the morning     1.149609\n",
      "Average tries in the night                     4.952381\n",
      "Standard deviation of tries in the night       0.843812\n",
      "dtype: float64\n"
     ]
    }
   ],
   "source": [
    "stats_list = utils.computed_statistics(cleaned_df)\n",
    "statistics_headers = [\"Total days of Wordle completed\", \"Total Wordles completed in the morning\", \"Total Wordles completed in the night\", \"Most common amount of tries\"\n",
    "                    , \"Average amount of tries\", \"Standard deviation of tries\", \"Average tries in the morning\", \"Standard deviation of tries in the morning\", \n",
    "                    \"Average tries in the night\", \"Standard deviation of tries in the night\"]\n",
    "stats_series = pd.Series(stats_list, index= statistics_headers)\n",
    "print(stats_series)"
   ]
  },
  {
   "attachments": {},
   "cell_type": "markdown",
   "metadata": {},
   "source": [
    "# **Joining the wordle dataset with different datasets**\n",
    "The first dataset I have decided to join my data with is a csv file containing the date and the day of the week, it includes the same dates as my wordle data AKA 9/14/2022-12/3/2022. The second dataset comes from DA3, I grabbed Spokanes daily `tavg` weather from the APIs we used and it also includes the same dates above. I will load both into a 2 different dataframes below:"
   ]
  },
  {
   "cell_type": "code",
   "execution_count": 575,
   "metadata": {},
   "outputs": [],
   "source": [
    "weekday_df = pd.read_csv(\"days_of_the_week.csv\")\n",
    "weather_df = pd.read_csv(\"Spokane_daily_weather.csv\")"
   ]
  },
  {
   "attachments": {},
   "cell_type": "markdown",
   "metadata": {},
   "source": [
    "Next I will use join the two dataframes on the attribute: `Date`. I will be merging the tables by using the pandas `merge` function. It joins dataframes on columns or indexes, I will be doing a outer join on both tables as well which creates a union of both keys from both frames"
   ]
  },
  {
   "cell_type": "code",
   "execution_count": 576,
   "metadata": {},
   "outputs": [],
   "source": [
    "# Joining weekday and wordle dataframes\n",
    "weekday_wordle_df = cleaned_df.merge(weekday_df, on=\"Date\", how=\"outer\")\n",
    "\n",
    "# Joining weather and wordle dataframes\n",
    "grouped_by_tavg = weather_df[[\"Date\", \"tavg\"]]\n",
    "weather_wordle_df = cleaned_df.merge(grouped_by_tavg, on=\"Date\",how='outer')"
   ]
  },
  {
   "attachments": {},
   "cell_type": "markdown",
   "metadata": {},
   "source": [
    "# **Cleaning the merged csv files**\n",
    "After joining these tables, since there are days I had missed wordle, there is null values in those days in our merged files. Below we will delete these values:"
   ]
  },
  {
   "cell_type": "code",
   "execution_count": 577,
   "metadata": {},
   "outputs": [],
   "source": [
    "# cleaning and writing to a new csv file\n",
    "cleaned_weekday_wordle_df = utils.delete_missing_data(weekday_wordle_df)\n",
    "weekday_wordle_df.to_csv(\"weekday_wordle_merge.csv\")\n",
    "\n",
    "cleaned_weather_wordle_df = utils.delete_missing_data(weather_wordle_df)\n",
    "weather_wordle_df.to_csv(\"weather_wordle_merge.csv\")"
   ]
  },
  {
   "attachments": {},
   "cell_type": "markdown",
   "metadata": {},
   "source": [
    "# **Issues with Data Preparation**\n",
    "I honestly did not have to many issues with preparin my data. Something a little difficult though was seprating the AM and PM wordle times. I had decided to create two new copys of the cleaned_df. Then for the AM, I replaced any value containing PM in the `Time` column with a null value. I then proceeded to delete these values from each Dataframe and then vice versa with the PM."
   ]
  },
  {
   "attachments": {},
   "cell_type": "markdown",
   "metadata": {},
   "source": [
    "# **Hypothesis Testing**\n",
    "\n",
    "##### *One tailed two sample independent t-test*  \n",
    "Hypothesis: Is the mean wordle score in the night greater than the mean wordle score in the morning?\n",
    "\n",
    "1. Identifying the null($H_{0}$) and alternative hypothesis($H_{1}$)\n",
    "    * $H_{0}$: $\\mu_n \\le \\mu_m$\n",
    "    * $H_{1}$: $\\mu_n > \\mu_m$\n",
    "1. Select Level of significance\n",
    "    * Our level of significance will be 0.05\n",
    "1. Select the appropiate test statistic\n",
    "    * t-computed = $\\frac{\\overline{X_{1}} - \\overline{X_{2}}}{\\sqrt{{S_{p}}^2(\\frac{1}{n_1} + \\frac{1}{n_2})}}$\n",
    "    * ${S_{p}}^2$ = $\\frac{(n_1 - 1){S_1}^2 + (n_2 - 1){S_2}^2}{n_1 + n_2 - 2}$\n",
    "1. Formulate the decision rule\n",
    "    * degrees of freedom = 69\n",
    "    * t-critical = 1.671\n",
    "    * If t-computed is > 1.671 then reject $H_{0}$\n",
    "    * if t-computed is < 1.671 then accept $H_{0}$\n",
    "1. Make a decision\n",
    "    * t-computed: 0.74\n",
    "    * Since t-computed is < 1.671, accept $H_{0}$\n",
    "\n",
    "\n",
    "**End Result**: On a signifigance level of 0.05, we can conclude that the average Wordle score in the night is greater then the average Wordle score in the morning\n"
   ]
  },
  {
   "cell_type": "code",
   "execution_count": 578,
   "metadata": {},
   "outputs": [
    {
     "name": "stdout",
     "output_type": "stream",
     "text": [
      "DF: 69\n",
      "t-computed: 0.7355205360031276 P-Value: 0.23315684263938186\n",
      "Accept H0\n"
     ]
    }
   ],
   "source": [
    "morning_df, night_df = utils.seperate_morning_night(cleaned_df)\n",
    "n_n = len(night_df)\n",
    "X_bar1 = night_df[\"Tries\"].mean()\n",
    "s1 = np.std(night_df[\"Tries\"], ddof=1)\n",
    "n_m = len(morning_df)\n",
    "X_bar2 = morning_df[\"Tries\"].mean()\n",
    "s2 = np.std(morning_df[\"Tries\"], ddof=1)\n",
    "\n",
    "df = (n_m + n_n) - 2\n",
    "print(\"DF:\", df)\n",
    "\n",
    "# testing with scipy\n",
    "alpha = 0.05\n",
    "t, pval = stats.ttest_ind_from_stats(X_bar1, s1, n_n, X_bar2, s2, n_n)\n",
    "pval /= 2\n",
    "print(\"t-computed:\",t, \"P-Value:\", pval)\n",
    "if pval < alpha:\n",
    "    print(\"reject H0\")\n",
    "else:\n",
    "    print(\"Accept H0\")\n"
   ]
  },
  {
   "attachments": {},
   "cell_type": "markdown",
   "metadata": {},
   "source": [
    "##### *One tailed two sample independent t-test*  \n",
    "Hypothesis: Is the mean wordle score in the week greater than the mean wordle score in the weekend?\n",
    "\n",
    "1. Identifying the null($H_{0}$) and alternative hypothesis($H_{1}$)\n",
    "    * $H_{0}$: $\\mu_{week} \\le \\mu_{weekend}$\n",
    "    * $H_{1}$: $\\mu_{week} > \\mu_{weekend}$\n",
    "1. Select Level of significance\n",
    "    * Our level of significance will be 0.01\n",
    "1. Select the appropiate test statistic\n",
    "    * t-computed = $\\frac{\\overline{X_{1}} - \\overline{X_{2}}}{\\sqrt{{S_{p}}^2(\\frac{1}{n_1} + \\frac{1}{n_2})}}$\n",
    "    * ${S_{p}}^2$ = $\\frac{(n_1 - 1){S_1}^2 + (n_2 - 1){S_2}^2}{n_1 + n_2 - 2}$\n",
    "1. Formulate the decision rule\n",
    "    * degrees of freedom = 69\n",
    "    * t-critical = 2.382\n",
    "    * If t-computed is > 2.382 then reject $H_{0}$\n",
    "    * if t-computed is < 2.382 then accept $H_{0}$\n",
    "1. Make a decision\n",
    "    * t-computed: 1.78\n",
    "    * Since t-computed is < 2.382, accept $H_{0}$\n",
    "\n",
    "\n",
    "**End Result**: On a signifigance level of 0.01, we can conclude that the average Wordle score in the week is greater then the average Wordle score in the weekend"
   ]
  },
  {
   "cell_type": "code",
   "execution_count": 579,
   "metadata": {},
   "outputs": [
    {
     "name": "stdout",
     "output_type": "stream",
     "text": [
      "DF: 69\n",
      "t-computed: 1.777297552578455 P-Value: 0.04156189758170399\n",
      "Accept H0\n"
     ]
    }
   ],
   "source": [
    "# seperating data into two dataframes: week and weekday\n",
    "week_df, weekend_df = utils.seperate_week_weekday(weekday_wordle_df)\n",
    "n_1 = len(week_df)\n",
    "X_bar1 = week_df[\"Tries\"].mean()\n",
    "s1 = np.std(week_df[\"Tries\"], ddof=1)\n",
    "n_2 = len(weekend_df)\n",
    "X_bar2 = weekend_df[\"Tries\"].mean()\n",
    "s2 = np.std(weekend_df[\"Tries\"], ddof=1)\n",
    "\n",
    "df = (n_m + n_n) - 2\n",
    "print(\"DF:\", df)\n",
    "\n",
    "# testing with scipy\n",
    "alpha = 0.01\n",
    "t, pval = stats.ttest_ind_from_stats(X_bar1, s1, n_n, X_bar2, s2, n_n)\n",
    "pval /= 2\n",
    "print(\"t-computed:\",t, \"P-Value:\", pval)\n",
    "if pval < alpha:\n",
    "    print(\"reject H0\")\n",
    "else:\n",
    "    print(\"Accept H0\")"
   ]
  },
  {
   "attachments": {},
   "cell_type": "markdown",
   "metadata": {},
   "source": [
    "# **Visualizing Some Data**\n",
    "\n",
    "The graph below depicts a bar chart that plots the days I attempted the wordle on the y-axis and how long it took me to get the wordle(tries) on the x-axis:"
   ]
  },
  {
   "cell_type": "code",
   "execution_count": 580,
   "metadata": {},
   "outputs": [
    {
     "data": {
      "image/png": "[encoded data removed]",
      "text/plain": [
       "<Figure size 720x720 with 1 Axes>"
      ]
     },
     "metadata": {
      "needs_background": "light"
     },
     "output_type": "display_data"
    }
   ],
   "source": [
    "utils.plot_standard_data(cleaned_df.loc[:,\"Tries\"], cleaned_df.index, \"Amount of Tries\", \"Day\", \"Wordle Tries among 70 days\")"
   ]
  },
  {
   "attachments": {},
   "cell_type": "markdown",
   "metadata": {},
   "source": [
    "**Analysis:** From this graph we can notice that the highest score that I had gotten on wordle was 4 tries while the lowest score is 3 tries.\n",
    "\n",
    "This next graph shows a scatterplot between the average weather in Spokane and the wordle tries"
   ]
  },
  {
   "cell_type": "code",
   "execution_count": 581,
   "metadata": {},
   "outputs": [
    {
     "data": {
      "image/png": "[encoded data removed]",
      "text/plain": [
       "<Figure size 720x720 with 1 Axes>"
      ]
     },
     "metadata": {
      "needs_background": "light"
     },
     "output_type": "display_data"
    }
   ],
   "source": [
    "y = weather_wordle_df[\"tavg\"]\n",
    "x = weather_wordle_df[\"Tries\"]\n",
    "\n",
    "utils.plot_weather_data(x,y, \"Amount of tries\", \"Average Weather in Farenheit\", \"Weathers influence on my wordle score\")"
   ]
  },
  {
   "attachments": {},
   "cell_type": "markdown",
   "metadata": {},
   "source": [
    "**Analysis:** In this bar chart it depicts the relation between the daily weather and my wordle score. From the graph there is a correlation with hotter weather and a worse wordle score. 2 tries or even 3 tries is under mid 60s. A possible causation from this could be on hotter days, I usually am more tired from the heat so perhaps playing wordle was harder then it normally should be."
   ]
  },
  {
   "attachments": {},
   "cell_type": "markdown",
   "metadata": {},
   "source": [
    "# **Classification**\n",
    "\n",
    "The attribute that we are going to be classifying AKA predicting `Got it`, which refers to if I got the wordle or not that day. We will be using two different classifiers for our machine learning, the kNN(k Nearest Neighbors) and the Decision Tree Classifier. I will be indicating performance of these two classifiers by comparing their accuracies.\n",
    "\n",
    "**Hypothesis:**  \n",
    "I believe that the accuracy from teh Decision Tree Classifier will be higher than the kNN classifier. What leads me to believe this is because the Decision Tree algorithm has a prediction accuracy of 93% while kNN has a accuracy value of around 92%\n",
    "\n",
    "First we will test the kNN classifier, I used the `MinMaxScaler()` to fit my data then the `train_test_split()`to split our data using the holdout method into training and testing datasets. For a fair comparision, I will be holding out the same amount of data for testing(25%). "
   ]
  },
  {
   "cell_type": "code",
   "execution_count": 582,
   "metadata": {},
   "outputs": [
    {
     "name": "stdout",
     "output_type": "stream",
     "text": [
      "(70, 5) (70,)\n",
      "accuracy:  0.8333333333333334\n"
     ]
    }
   ],
   "source": [
    "# merging both tables into my original dataset\n",
    "weather_merge = cleaned_weather_wordle_df[[\"Date\", \"tavg\"]]\n",
    "more_merge_df = cleaned_weekday_wordle_df.merge(weather_merge, on=\"Date\", how=\"outer\")\n",
    "\n",
    "# scaling/fitting our data\n",
    "scaler = MinMaxScaler()\n",
    "X = utils.format_data(more_merge_df)\n",
    "X_quarter_len = math.ceil(len(X) * .25)\n",
    "X = scaler.fit_transform(X)\n",
    "y = cleaned_df[\"Got it\"]\n",
    "print(X.shape, y.shape)\n",
    "\n",
    "# splitting up the data\n",
    "X_train, X_test, y_train, y_test = train_test_split(X, y, random_state=0, stratify=y) \n",
    "\n",
    "# classifying\n",
    "knn_clf = KNeighborsClassifier(metric=\"euclidean\", n_neighbors=X_quarter_len)\n",
    "knn_clf.fit(X_train, y_train)\n",
    "acc = knn_clf.score(X_test, y_test)\n",
    "print(\"accuracy: \", acc)"
   ]
  },
  {
   "attachments": {},
   "cell_type": "markdown",
   "metadata": {},
   "source": [
    "Next I will test the Decision Tree Classifier. I also used the `MinMaxScaler()` from sklearn preprocessing and also the `train_test_split()` from the model selection in sklean. Using the holdout method again, I left 25% of the data for testing and the other 75% for training!"
   ]
  },
  {
   "cell_type": "code",
   "execution_count": 584,
   "metadata": {},
   "outputs": [
    {
     "name": "stdout",
     "output_type": "stream",
     "text": [
      "(70, 5) (70,)\n",
      "accuracy:  0.9444444444444444\n"
     ]
    }
   ],
   "source": [
    "\n",
    "print(X.shape, y.shape)\n",
    "\n",
    "# splitting up data again\n",
    "X_train, X_test, y_train, y_test = train_test_split(X, y, random_state=0, stratify=y) \n",
    "\n",
    "# classifying again\n",
    "tree_clf = DecisionTreeClassifier(random_state=0, max_depth=X_quarter_len)\n",
    "tree_clf.fit(X_train, y_train)\n",
    "acc = tree_clf.score(X_test, y_test)\n",
    "print(\"accuracy: \", acc)"
   ]
  },
  {
   "attachments": {},
   "cell_type": "markdown",
   "metadata": {},
   "source": [
    "# **Comparing Accuracies**\n",
    "* Decision Tree Classifier accuracy: 94%\n",
    "* kNN Classifier accuracy: 83%\n",
    "\n",
    "Looking at the two results its clear that the Decision Tree Classifier was able to predict a better accuracy. This also means my hypothesis has been proven. "
   ]
  },
  {
   "attachments": {},
   "cell_type": "markdown",
   "metadata": {},
   "source": [
    "# **Challenges with Classification**\n",
    "I think the biggest challenge I had with classification is formatting the X. Since classification only works with numerical values, I needed to convert some of my columns. Specifically the `Day`, `Time`, and `Word` attributes. To convert the `Day` column, I used a the `LabelEncoder()` from sklearn preprocessing. This converted each day to a specific numerical value. For the `Time` I simply converted all times before noon to 0 and all times after noon to 1. The `Word` was definitely the hardest attribute to convert. I did this by finding the least common letters to appear in wordle. I divided the words into 3 levels: 3 = hard, 2 = medium, 1 = easy. The least common letters to appear in wordle was j, q, z, and x so any word containing those letters was converted to a 3. Next words that contain f, v, and k were assigned to a 2 as those letters are a little more recurring but still sparse in wordle. Then every other word was assigned to a 1 assuming it is an easier word since it doesn't contain unique letters."
   ]
  },
  {
   "attachments": {},
   "cell_type": "markdown",
   "metadata": {},
   "source": [
    "# **Sources**\n",
    "* https://iptek.its.ac.id/index.php/ijcsam/article/view/4360"
   ]
  }
 ],
 "metadata": {
  "kernelspec": {
   "display_name": "Python 3.9.12 ('base')",
   "language": "python",
   "name": "python3"
  },
  "language_info": {
   "codemirror_mode": {
    "name": "ipython",
    "version": 3
   },
   "file_extension": ".py",
   "mimetype": "text/x-python",
   "name": "python",
   "nbconvert_exporter": "python",
   "pygments_lexer": "ipython3",
   "version": "3.9.12"
  },
  "orig_nbformat": 4,
  "vscode": {
   "interpreter": {
    "hash": "c40ef6c36201f864b399f9acd17760385561694cf3c633e8ea711e7dff52fea3"
   }
  }
 },
 "nbformat": 4,
 "nbformat_minor": 2
}
