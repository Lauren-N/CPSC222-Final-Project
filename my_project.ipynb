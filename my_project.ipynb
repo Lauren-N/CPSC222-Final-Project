{
 "cells": [
  {
   "cell_type": "code",
   "execution_count": 598,
   "metadata": {},
   "outputs": [
    {
     "data": {
      "text/plain": [
       "<module 'utils' from 'c:\\\\Users\\\\dzuy\\\\Desktop\\\\CPSC222\\\\project\\\\utils.py'>"
      ]
     },
     "execution_count": 598,
     "metadata": {},
     "output_type": "execute_result"
    }
   ],
   "source": [
    "\"\"\"\n",
    "Name: Lauren Nguyen\n",
    "Course: CPSC 222\n",
    "Assignment: Final Project\n",
    "Date: 12/3/2022\n",
    "Description: Final Data Science project using wordle data to compute EDA, \n",
    "            statistics testing, and machine learning\n",
    "\"\"\"\n",
    "import utils\n",
    "import pandas as pd\n",
    "import numpy as np\n",
    "import matplotlib.pyplot as plt\n",
    "from scipy import stats\n",
    "import importlib\n",
    "importlib.reload(utils)"
   ]
  },
  {
   "cell_type": "markdown",
   "metadata": {},
   "source": [
    "## Data Description\n",
    "My data that I will be using in this project comes from the internet game wordle. I have been tracking my daily attempts along with these attributes:\n",
    "* Amount of tries(Tries)\n",
    "* Date(Date)\n",
    "* The word(Word)\n",
    "* The time completed(Time)\n",
    "* If I got the word(Got it)\n",
    "## Loading the Data\n",
    "First we load the data from a csv file into a pandas dataframe"
   ]
  },
  {
   "cell_type": "code",
   "execution_count": 599,
   "metadata": {},
   "outputs": [
    {
     "name": "stdout",
     "output_type": "stream",
     "text": [
      "      Date  Tries   Word      Time Got it\n",
      "0  9/14/22    5.0  Thyme   8:58 AM    Yes\n",
      "1  9/15/22    4.0  Doubt   9:09 AM    Yes\n",
      "2  9/16/22    6.0  Parer   1:11 PM    Yes\n",
      "3  9/17/22    NaN    NaN       NaN    NaN\n",
      "4  9/18/22    5.0  Stick  11:33 AM    Yes\n"
     ]
    }
   ],
   "source": [
    "uncleaned_df = utils.read_file(\"wordle_uncleaned.csv\")\n",
    "print(uncleaned_df.head())"
   ]
  },
  {
   "cell_type": "markdown",
   "metadata": {},
   "source": [
    "## Cleaning the data\n",
    "Next, we need to clean the data up a little. There are some days of wordle that I had missed so I need to delete the rows where there is no data present. Then write to a new csv file called **\"cleaned_wordle.csv\"**"
   ]
  },
  {
   "cell_type": "code",
   "execution_count": 600,
   "metadata": {},
   "outputs": [],
   "source": [
    "cleaned_df = utils.delete_missing_data(uncleaned_df)\n",
    "cleaned_df.to_csv(\"cleaned_wordle.csv\")"
   ]
  },
  {
   "attachments": {},
   "cell_type": "markdown",
   "metadata": {},
   "source": [
    "## **Agreggating Data**\n",
    "For this, we will be computing statistics on our dataset, These calculations will include:\n",
    "* Total days of Wordle completed\n",
    "* Total Wordles completed in the morning\n",
    "* Total Wordles completed in the night\n",
    "* Most common amount of tries\n",
    "* Average amount of tries\n",
    "* Standard deviation of tries\n",
    "* Average tries in the morning\n",
    "* Standard deviation of tries in the morning\n",
    "* Average tries in the night\n",
    "* Standard deviation of tries in the night\n",
    "\n",
    "Formulas to be used:  \n",
    "Average: $\\frac{1}{n} \\sum_{i=i}^{n} x_{i}$  \n",
    "Standard Deviation: $\\sqrt{\\frac{1}{N-1} \\sum_{i=1}^N (x_i - \\overline{x})^2}$  \n",
    "Mode: l + h($\\frac{f_{m}-f_{l}}{2f_{m}-f_{l}-f_{2}}$)\n"
   ]
  },
  {
   "cell_type": "code",
   "execution_count": 601,
   "metadata": {},
   "outputs": [
    {
     "name": "stdout",
     "output_type": "stream",
     "text": [
      "Total days of Wordle completed                70.000000\n",
      "Total Wordles completed in the morning        50.000000\n",
      "Total Wordles completed in the night          21.000000\n",
      "Most common amount of tries                    5.000000\n",
      "Average amount of tries                        4.800000\n",
      "Standard deviation of tries                    1.077033\n",
      "Average tries in the morning                   4.720000\n",
      "Standard deviation of tries in the morning     1.149609\n",
      "Average tries in the night                     4.952381\n",
      "Standard deviation of tries in the night       0.843812\n",
      "dtype: float64\n"
     ]
    }
   ],
   "source": [
    "stats_list = utils.computed_statistics(cleaned_df)\n",
    "statistics_headers = [\"Total days of Wordle completed\", \"Total Wordles completed in the morning\", \"Total Wordles completed in the night\", \"Most common amount of tries\"\n",
    "                    , \"Average amount of tries\", \"Standard deviation of tries\", \"Average tries in the morning\", \"Standard deviation of tries in the morning\", \n",
    "                    \"Average tries in the night\", \"Standard deviation of tries in the night\"]\n",
    "stats_series = pd.Series(stats_list, index= statistics_headers)\n",
    "print(stats_series)"
   ]
  },
  {
   "attachments": {},
   "cell_type": "markdown",
   "metadata": {},
   "source": [
    "## **Joining the wordle dataset with different datasets**\n",
    "The first dataset I have decided to join my data with is a csv file containing the date and the day of the week, it includes the same dates as my wordle data AKA 9/14/2022-12/3/2022. The second dataset comes from DA3, I grabbed Spokanes daily `tavg` weather from the APIs we used and it also includes the same dates above. I will load both into a 2 different dataframes below:"
   ]
  },
  {
   "cell_type": "code",
   "execution_count": 602,
   "metadata": {},
   "outputs": [],
   "source": [
    "weekday_df = pd.read_csv(\"days_of_the_week.csv\")\n",
    "weather_df = pd.read_csv(\"Spokane_daily_weather.csv\")"
   ]
  },
  {
   "attachments": {},
   "cell_type": "markdown",
   "metadata": {},
   "source": [
    "Next I will use join the two dataframes on the attribute: `Date`"
   ]
  },
  {
   "cell_type": "code",
   "execution_count": 603,
   "metadata": {},
   "outputs": [],
   "source": [
    "# Joining weekday and wordle dataframes\n",
    "weekday_wordle_df = cleaned_df.merge(weekday_df, on=\"Date\", how=\"outer\")\n",
    "\n",
    "# Joining weather and wordle dataframes\n",
    "grouped_by_tavg = weather_df[[\"Date\", \"tavg\"]]\n",
    "weather_wordle_df = cleaned_df.merge(grouped_by_tavg, on=\"Date\",how='outer')"
   ]
  },
  {
   "attachments": {},
   "cell_type": "markdown",
   "metadata": {},
   "source": [
    "## **Cleaning the merged csv files**\n",
    "After joining these tables, since there are days I had missed wordle, there is null values in those days in our merged files. Below we will delete these values:"
   ]
  },
  {
   "cell_type": "code",
   "execution_count": 604,
   "metadata": {},
   "outputs": [],
   "source": [
    "# cleaning and writing to a new csv file\n",
    "cleaned_weekday_wordle_df = utils.delete_missing_data(weekday_wordle_df)\n",
    "weekday_wordle_df.to_csv(\"weekday_wordle_merge.csv\")\n",
    "\n",
    "cleaned_weather_wordle_df = utils.delete_missing_data(weather_wordle_df)\n",
    "weather_wordle_df.to_csv(\"weather_wordle_merge.csv\")"
   ]
  },
  {
   "attachments": {},
   "cell_type": "markdown",
   "metadata": {},
   "source": [
    "## **Hypothesis Testing**\n",
    "\n",
    "##### *One tailed two sample independent t-test*  \n",
    "Hypothesis: Is the mean wordle score in the night greater than the mean wordle score in the morning?\n",
    "\n",
    "1. Identifying the null($H_{0}$) and alternative hypothesis($H_{1}$)\n",
    "    * $H_{0}$: $\\mu_n \\le \\mu_m$\n",
    "    * $H_{1}$: $\\mu_n > \\mu_m$\n",
    "1. Select Level of significance\n",
    "    * Our level of significance will be 0.05\n",
    "1. Select the appropiate test statistic\n",
    "    * t-computed = $\\frac{\\overline{X_{1}} - \\overline{X_{2}}}{\\sqrt{{S_{p}}^2(\\frac{1}{n_1} + \\frac{1}{n_2})}}$\n",
    "    * ${S_{p}}^2$ = $\\frac{(n_1 - 1){S_1}^2 + (n_2 - 1){S_2}^2}{n_1 + n_2 - 2}$\n",
    "1. Formulate the decision rule\n",
    "    * degrees of freedom = 69\n",
    "    * t-critical = 1.671\n",
    "    * If t-computed is > 1.671 then reject $H_{0}$\n",
    "    * if t-computed is < 1.671 then accept $H_{0}$\n",
    "1. Make a decision\n",
    "    * t-computed: 0.74\n",
    "    * Since t-computed is < 1.671, accept $H_{0}$\n",
    "\n",
    "\n",
    "**End Result**: On a signifigance level of 0.05, we can conclude that the average Wordle score in the night is greater then the average Wordle score in the morning\n"
   ]
  },
  {
   "cell_type": "code",
   "execution_count": 605,
   "metadata": {},
   "outputs": [
    {
     "name": "stdout",
     "output_type": "stream",
     "text": [
      "DF: 69\n",
      "t-computed: 0.7355205360031276 P-Value: 0.23315684263938186\n",
      "Accept H0\n"
     ]
    }
   ],
   "source": [
    "morning_df, night_df = utils.seperate_morning_night(cleaned_df)\n",
    "n_n = len(night_df)\n",
    "X_bar1 = night_df[\"Tries\"].mean()\n",
    "s1 = np.std(night_df[\"Tries\"], ddof=1)\n",
    "n_m = len(morning_df)\n",
    "X_bar2 = morning_df[\"Tries\"].mean()\n",
    "s2 = np.std(morning_df[\"Tries\"], ddof=1)\n",
    "\n",
    "df = (n_m + n_n) - 2\n",
    "print(\"DF:\", df)\n",
    "\n",
    "# testing with scipy\n",
    "alpha = 0.05\n",
    "t, pval = stats.ttest_ind_from_stats(X_bar1, s1, n_n, X_bar2, s2, n_n)\n",
    "pval /= 2\n",
    "print(\"t-computed:\",t, \"P-Value:\", pval)\n",
    "if pval < alpha:\n",
    "    print(\"reject H0\")\n",
    "else:\n",
    "    print(\"Accept H0\")\n"
   ]
  },
  {
   "attachments": {},
   "cell_type": "markdown",
   "metadata": {},
   "source": [
    "##### *One tailed two sample independent t-test*  \n",
    "Hypothesis: Is the mean wordle score in the week greater than the mean wordle score in the weekend?\n",
    "\n",
    "1. Identifying the null($H_{0}$) and alternative hypothesis($H_{1}$)\n",
    "    * $H_{0}$: $\\mu_{week} \\le \\mu_{weekend}$\n",
    "    * $H_{1}$: $\\mu_{week} > \\mu_{weekend}$\n",
    "1. Select Level of significance\n",
    "    * Our level of significance will be 0.01\n",
    "1. Select the appropiate test statistic\n",
    "    * t-computed = $\\frac{\\overline{X_{1}} - \\overline{X_{2}}}{\\sqrt{{S_{p}}^2(\\frac{1}{n_1} + \\frac{1}{n_2})}}$\n",
    "    * ${S_{p}}^2$ = $\\frac{(n_1 - 1){S_1}^2 + (n_2 - 1){S_2}^2}{n_1 + n_2 - 2}$\n",
    "1. Formulate the decision rule\n",
    "    * degrees of freedom = 69\n",
    "    * t-critical = 2.382\n",
    "    * If t-computed is > 2.382 then reject $H_{0}$\n",
    "    * if t-computed is < 2.382 then accept $H_{0}$\n",
    "1. Make a decision\n",
    "    * t-computed: 1.78\n",
    "    * Since t-computed is < 2.382, accept $H_{0}$\n",
    "\n",
    "\n",
    "**End Result**: On a signifigance level of 0.01, we can conclude that the average Wordle score in the week is greater then the average Wordle score in the weekend"
   ]
  },
  {
   "cell_type": "code",
   "execution_count": 606,
   "metadata": {},
   "outputs": [
    {
     "name": "stdout",
     "output_type": "stream",
     "text": [
      "DF: 69\n",
      "t-computed: 1.777297552578455 P-Value: 0.04156189758170399\n",
      "Accept H0\n"
     ]
    }
   ],
   "source": [
    "# seperating data into two dataframes: week and weekday\n",
    "week_df, weekend_df = utils.seperate_week_weekday(weekday_wordle_df)\n",
    "n_1 = len(week_df)\n",
    "X_bar1 = week_df[\"Tries\"].mean()\n",
    "s1 = np.std(week_df[\"Tries\"], ddof=1)\n",
    "n_2 = len(weekend_df)\n",
    "X_bar2 = weekend_df[\"Tries\"].mean()\n",
    "s2 = np.std(weekend_df[\"Tries\"], ddof=1)\n",
    "\n",
    "df = (n_m + n_n) - 2\n",
    "print(\"DF:\", df)\n",
    "\n",
    "# testing with scipy\n",
    "alpha = 0.01\n",
    "t, pval = stats.ttest_ind_from_stats(X_bar1, s1, n_n, X_bar2, s2, n_n)\n",
    "pval /= 2\n",
    "print(\"t-computed:\",t, \"P-Value:\", pval)\n",
    "if pval < alpha:\n",
    "    print(\"reject H0\")\n",
    "else:\n",
    "    print(\"Accept H0\")"
   ]
  },
  {
   "attachments": {},
   "cell_type": "markdown",
   "metadata": {},
   "source": [
    "## **Visualizing Some Data**\n",
    "\n",
    "The graph below depicts a bar chart that plots the days I attempted the wordle on the y-axis and how long it took me to get the wordle(tries) on the x-axis:"
   ]
  },
  {
   "cell_type": "code",
   "execution_count": 607,
   "metadata": {},
   "outputs": [
    {
     "data": {
      "image/png": "[encoded data removed]",
      "text/plain": [
       "<Figure size 864x864 with 1 Axes>"
      ]
     },
     "metadata": {
      "needs_background": "light"
     },
     "output_type": "display_data"
    }
   ],
   "source": [
    "utils.plot_standard_data(cleaned_df.loc[:,\"Tries\"], cleaned_df.index, \"Amount of Tries\", \"Day\", \"Wordle Tries among 70 days\")"
   ]
  },
  {
   "attachments": {},
   "cell_type": "markdown",
   "metadata": {},
   "source": [
    "**Analysis:** From this graph we can notice that the highest score that I had gotten on wordle was 4 tries while the lowest score is 3 tries.\n",
    "\n",
    "This next graph shows a scatterplot between the average weather in Spokane and the wordle tries"
   ]
  },
  {
   "cell_type": "code",
   "execution_count": 608,
   "metadata": {},
   "outputs": [
    {
     "data": {
      "image/png": "[encoded data removed]",
      "text/plain": [
       "<Figure size 864x864 with 1 Axes>"
      ]
     },
     "metadata": {
      "needs_background": "light"
     },
     "output_type": "display_data"
    }
   ],
   "source": [
    "y = weather_wordle_df[\"tavg\"]\n",
    "x = weather_wordle_df[\"Tries\"]\n",
    "\n",
    "utils.plot_weather_data(x,y, \"Amount of tries\", \"Average Weather in Farenheit\", \"Weathers affect on my wordle score\")"
   ]
  },
  {
   "attachments": {},
   "cell_type": "markdown",
   "metadata": {},
   "source": [
    "**Analysis:** In this bar chart it depicts the relation between the daily weather and my wordle score. From the graph there is a correlation with hotter weather and a worse wordle score. 2 tries or even 3 tries is under mid 60s. A possible causation from this could be on hotter days, I usually am more tired from the heat so perhaps playing wordle was harder then it normally should be."
   ]
  },
  {
   "cell_type": "markdown",
   "metadata": {},
   "source": []
  }
 ],
 "metadata": {
  "kernelspec": {
   "display_name": "Python 3.9.12 ('base')",
   "language": "python",
   "name": "python3"
  },
  "language_info": {
   "codemirror_mode": {
    "name": "ipython",
    "version": 3
   },
   "file_extension": ".py",
   "mimetype": "text/x-python",
   "name": "python",
   "nbconvert_exporter": "python",
   "pygments_lexer": "ipython3",
   "version": "3.9.12"
  },
  "orig_nbformat": 4,
  "vscode": {
   "interpreter": {
    "hash": "c40ef6c36201f864b399f9acd17760385561694cf3c633e8ea711e7dff52fea3"
   }
  }
 },
 "nbformat": 4,
 "nbformat_minor": 2
}
